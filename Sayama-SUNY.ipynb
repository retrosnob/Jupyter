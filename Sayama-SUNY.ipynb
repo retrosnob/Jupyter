{
 "cells": [
  {
   "cell_type": "markdown",
   "metadata": {},
   "source": [
    "A document seems to be a sequence of cells, each of which has one of markdown, code, Raw NBConvert or Heading as its type. This text is in a markdown cell and hence, presumably, I can have **bold** and _italic_ text."
   ]
  },
  {
   "cell_type": "code",
   "execution_count": 5,
   "metadata": {},
   "outputs": [
    {
     "name": "stdout",
     "output_type": "stream",
     "text": [
      "1\n",
      "2\n",
      "3\n",
      "4\n",
      "5\n",
      "Once I caught a fish alive.\n"
     ]
    }
   ],
   "source": [
    "# This is a code cell\n",
    "for i in range(5):\n",
    "    print (i + 1)\n",
    "print (\"Once I caught a fish alive.\")"
   ]
  },
  {
   "attachments": {},
   "cell_type": "markdown",
   "metadata": {},
   "source": [
    "# This is a heading cell\n",
    "but apparently headings are deprecated and instead Jupyter converts them to markdown cells and prepends your text with the hash sign to make it a markdown heading.\n",
    "\n",
    "This image didn't want to display but I found the the markdown that Jupyter was entering was wrong. You need to manually edit it and remember to add the image itself to the git repo (ie the same directory as the ipynb file). \n",
    "\n",
    "![This is just a test image](ref.png)\n",
    "\n",
    "**git config --global credential.helper 'cache --timeout=7200'**\n",
    "\n",
    "Let's try some maths:\n",
    "\n",
    "$$\\frac{\\pi}{2\\omega}$$\n",
    "\n",
    "Seems rather small. Let's try the same using \\[ \\] instead of $$ $$:\n",
    "\n",
    "\\[ \\frac{\\pi}{2\\omega} \\]\n",
    "\n",
    "Presumably we can use triple backticks to include code blocks in a markdown cell:\n",
    "\n",
    "```\n",
    "System.out.println(\"Yep\");\n",
    "```\n",
    "\n",
    "But that isn't particularly nice looking. What about specifying the language:\n",
    "\n",
    "```python\n",
    "for matplotlib import plot\n",
    "print (\"Now what?\")\n",
    "```\n",
    "\n"
   ]
  }
 ],
 "metadata": {
  "kernelspec": {
   "display_name": "Python 3",
   "language": "python",
   "name": "python3"
  },
  "language_info": {
   "codemirror_mode": {
    "name": "ipython",
    "version": 3
   },
   "file_extension": ".py",
   "mimetype": "text/x-python",
   "name": "python",
   "nbconvert_exporter": "python",
   "pygments_lexer": "ipython3",
   "version": "3.7.1"
  }
 },
 "nbformat": 4,
 "nbformat_minor": 2
}
