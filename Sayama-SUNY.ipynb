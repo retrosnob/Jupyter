{
 "cells": [
  {
   "cell_type": "markdown",
   "metadata": {},
   "source": [
    "A document seems to be a sequence of cells, each of which has one of markdown, code, Raw NBConvert or Heading as its type. This text is in a markdown cell and hence, presumably, I can have **bold** and _italic_ text."
   ]
  },
  {
   "cell_type": "code",
   "execution_count": 5,
   "metadata": {},
   "outputs": [
    {
     "name": "stdout",
     "output_type": "stream",
     "text": [
      "1\n",
      "2\n",
      "3\n",
      "4\n",
      "5\n",
      "Once I caught a fish alive.\n"
     ]
    }
   ],
   "source": [
    "# This is a code cell\n",
    "for i in range(5):\n",
    "    print (i + 1)\n",
    "print (\"Once I caught a fish alive.\")"
   ]
  },
  {
   "attachments": {},
   "cell_type": "markdown",
   "metadata": {},
   "source": [
    "# This is a heading cell\n",
    "but apparently headings are deprecated and instead Jupyter converts them to markdown cells and prepends your text with the hash sign to make it a markdown heading.\n",
    "\n",
    "This image doesn't seem to want to display:\n",
    "\n",
    "![This is just a test image](ref.png)\n",
    "\n",
    "**git config --global credential.helper 'cache --timeout=7200'**\n",
    "\n",
    "Fish"
   ]
  }
 ],
 "metadata": {
  "kernelspec": {
   "display_name": "Python 3",
   "language": "python",
   "name": "python3"
  },
  "language_info": {
   "codemirror_mode": {
    "name": "ipython",
    "version": 3
   },
   "file_extension": ".py",
   "mimetype": "text/x-python",
   "name": "python",
   "nbconvert_exporter": "python",
   "pygments_lexer": "ipython3",
   "version": "3.7.1"
  }
 },
 "nbformat": 4,
 "nbformat_minor": 2
}
